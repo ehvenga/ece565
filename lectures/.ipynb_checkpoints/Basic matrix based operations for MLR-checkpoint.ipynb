{
 "cells": [
  {
   "cell_type": "markdown",
   "id": "d7ef03ab-411b-4c45-a78c-e0c1c66932f0",
   "metadata": {},
   "source": [
    "# Basic matrix based operations for MLR\n",
    "\n",
    "### Setup"
   ]
  },
  {
   "cell_type": "code",
   "execution_count": 1,
   "id": "20c3d87e-0588-4d6b-a05e-9fe38a2eaea7",
   "metadata": {
    "tags": []
   },
   "outputs": [],
   "source": [
    "import pandas as pd\n",
    "import numpy as np"
   ]
  },
  {
   "cell_type": "markdown",
   "id": "52a530fc-f1b2-4a65-8f1c-0a23c7ff0006",
   "metadata": {},
   "source": [
    "### Read input data"
   ]
  },
  {
   "cell_type": "code",
   "execution_count": 2,
   "id": "7515a5f4-5a16-402c-9e75-755d9e75eb79",
   "metadata": {
    "tags": []
   },
   "outputs": [
    {
     "data": {
      "text/html": [
       "<div>\n",
       "<style scoped>\n",
       "    .dataframe tbody tr th:only-of-type {\n",
       "        vertical-align: middle;\n",
       "    }\n",
       "\n",
       "    .dataframe tbody tr th {\n",
       "        vertical-align: top;\n",
       "    }\n",
       "\n",
       "    .dataframe thead th {\n",
       "        text-align: right;\n",
       "    }\n",
       "</style>\n",
       "<table border=\"1\" class=\"dataframe\">\n",
       "  <thead>\n",
       "    <tr style=\"text-align: right;\">\n",
       "      <th></th>\n",
       "      <th>x1</th>\n",
       "      <th>x2</th>\n",
       "      <th>x3</th>\n",
       "      <th>y</th>\n",
       "    </tr>\n",
       "  </thead>\n",
       "  <tbody>\n",
       "    <tr>\n",
       "      <th>0</th>\n",
       "      <td>1</td>\n",
       "      <td>4</td>\n",
       "      <td>1</td>\n",
       "      <td>3</td>\n",
       "    </tr>\n",
       "    <tr>\n",
       "      <th>1</th>\n",
       "      <td>2</td>\n",
       "      <td>5</td>\n",
       "      <td>2</td>\n",
       "      <td>1</td>\n",
       "    </tr>\n",
       "    <tr>\n",
       "      <th>2</th>\n",
       "      <td>3</td>\n",
       "      <td>6</td>\n",
       "      <td>1</td>\n",
       "      <td>0</td>\n",
       "    </tr>\n",
       "    <tr>\n",
       "      <th>3</th>\n",
       "      <td>1</td>\n",
       "      <td>3</td>\n",
       "      <td>5</td>\n",
       "      <td>2</td>\n",
       "    </tr>\n",
       "    <tr>\n",
       "      <th>4</th>\n",
       "      <td>1</td>\n",
       "      <td>5</td>\n",
       "      <td>0</td>\n",
       "      <td>1</td>\n",
       "    </tr>\n",
       "  </tbody>\n",
       "</table>\n",
       "</div>"
      ],
      "text/plain": [
       "   x1  x2  x3  y\n",
       "0   1   4   1  3\n",
       "1   2   5   2  1\n",
       "2   3   6   1  0\n",
       "3   1   3   5  2\n",
       "4   1   5   0  1"
      ]
     },
     "execution_count": 2,
     "metadata": {},
     "output_type": "execute_result"
    }
   ],
   "source": [
    "data_file_name = 'testData.csv'\n",
    "data = pd.read_csv(data_file_name)\n",
    "data.head()"
   ]
  },
  {
   "cell_type": "code",
   "execution_count": 3,
   "id": "883481c6-3efb-4f3d-aafe-5149594a8cee",
   "metadata": {
    "tags": []
   },
   "outputs": [
    {
     "name": "stdout",
     "output_type": "stream",
     "text": [
      "(5, 4)\n"
     ]
    }
   ],
   "source": [
    "print(data.shape)"
   ]
  },
  {
   "cell_type": "code",
   "execution_count": 4,
   "id": "0d654b57-a365-49bc-9fd6-00c14f20a37a",
   "metadata": {
    "tags": []
   },
   "outputs": [
    {
     "name": "stdout",
     "output_type": "stream",
     "text": [
      "(5, 3) [[[1 4 1]]\n",
      "\n",
      " [[2 5 2]]\n",
      "\n",
      " [[3 6 1]]\n",
      "\n",
      " [[1 3 5]]\n",
      "\n",
      " [[1 5 0]]] (5, 1, 3)\n"
     ]
    }
   ],
   "source": [
    "X = np.array(data.iloc[:, 0:-1]) # read the features\n",
    "Y = data[\"y\"].values\n",
    "Y = np.expand_dims(X, axis=1)\n",
    "print(X.shape,Y,Y.shape)"
   ]
  },
  {
   "cell_type": "markdown",
   "id": "df8bfe46-7a55-43ac-9a5e-e119c34c055f",
   "metadata": {
    "tags": []
   },
   "source": [
    "## Matrix operations for LR\n",
    "\n",
    "$H_W(X) = XW$\n",
    "\n",
    "Append a colum of 1s to the X data"
   ]
  },
  {
   "cell_type": "code",
   "execution_count": 5,
   "id": "2c37232f-1c42-4886-a2db-54232d61a70d",
   "metadata": {
    "tags": []
   },
   "outputs": [
    {
     "name": "stdout",
     "output_type": "stream",
     "text": [
      "[[1. 1. 4. 1.]\n",
      " [1. 2. 5. 2.]\n",
      " [1. 3. 6. 1.]\n",
      " [1. 1. 3. 5.]\n",
      " [1. 1. 5. 0.]]\n",
      "(5, 4)\n"
     ]
    }
   ],
   "source": [
    "X = np.hstack((np.ones([5,1]), X))\n",
    "print(X)\n",
    "print(X.shape)"
   ]
  },
  {
   "cell_type": "code",
   "execution_count": 6,
   "id": "f7220891-483b-4855-8321-56ff93cbaf6d",
   "metadata": {
    "tags": []
   },
   "outputs": [
    {
     "name": "stdout",
     "output_type": "stream",
     "text": [
      "number of examples (samples), M = 5\n",
      "number of features, n = 4\n"
     ]
    }
   ],
   "source": [
    "M, n = X.shape\n",
    "print(\"number of examples (samples), M = \" + str(M))\n",
    "print(\"number of features, n = \" + str(n))"
   ]
  },
  {
   "cell_type": "code",
   "execution_count": 7,
   "id": "0b32a084-1fa0-4b8f-be2e-985a988e82cb",
   "metadata": {
    "tags": []
   },
   "outputs": [
    {
     "name": "stdout",
     "output_type": "stream",
     "text": [
      "[[1]\n",
      " [2]\n",
      " [3]\n",
      " [4]]\n",
      "(4, 1)\n"
     ]
    }
   ],
   "source": [
    "W = np.array([[1,2,3,4]]).transpose()\n",
    "# W = np.array([[1,2,3,4]]).T\n",
    "print(W)\n",
    "print(W.shape)"
   ]
  },
  {
   "cell_type": "markdown",
   "id": "6a0a0b8c-b349-4768-8134-edc59838079c",
   "metadata": {},
   "source": [
    "### Hypothesis for a single example"
   ]
  },
  {
   "cell_type": "code",
   "execution_count": 8,
   "id": "951f92b2-4b87-492d-b32f-275d860faa31",
   "metadata": {
    "tags": []
   },
   "outputs": [
    {
     "name": "stdout",
     "output_type": "stream",
     "text": [
      "[1. 1. 4. 1.]\n",
      "(4,)\n"
     ]
    }
   ],
   "source": [
    "print(X[0,:])\n",
    "print(X[0,:].shape)"
   ]
  },
  {
   "cell_type": "code",
   "execution_count": 9,
   "id": "f34a5ed9-3063-44f2-838e-78f5bc819cb5",
   "metadata": {
    "tags": []
   },
   "outputs": [
    {
     "name": "stdout",
     "output_type": "stream",
     "text": [
      "[19.]\n"
     ]
    }
   ],
   "source": [
    "h_w = X[0,:]@W\n",
    "print(h_w)"
   ]
  },
  {
   "cell_type": "markdown",
   "id": "2dc0dce6-7daf-4349-89e9-a5b20b400c6d",
   "metadata": {},
   "source": [
    "### Hypothesis over all examples"
   ]
  },
  {
   "cell_type": "code",
   "execution_count": 10,
   "id": "56c766ee-835f-422c-bc9f-60c4094e1571",
   "metadata": {
    "tags": []
   },
   "outputs": [
    {
     "name": "stdout",
     "output_type": "stream",
     "text": [
      "[[19.]\n",
      " [28.]\n",
      " [29.]\n",
      " [32.]\n",
      " [18.]]\n",
      "(5, 1)\n"
     ]
    }
   ],
   "source": [
    "H_W = X@W\n",
    "print(H_W)\n",
    "print(H_W.shape)"
   ]
  },
  {
   "cell_type": "markdown",
   "id": "0fe0c4d5-5967-485b-823f-f25fa874dcea",
   "metadata": {},
   "source": [
    "### Cost function\n",
    "\n",
    "#### Cost function for single example"
   ]
  },
  {
   "cell_type": "code",
   "execution_count": 12,
   "id": "7189d6f3-275c-4c27-972d-73d0478a6684",
   "metadata": {
    "tags": []
   },
   "outputs": [
    {
     "ename": "ValueError",
     "evalue": "operands could not be broadcast together with remapped shapes [original->remapped]: (3,5,5)->(3,newaxis,newaxis) (5,5,3)->(5,newaxis,newaxis)  and requested shape (5,3)",
     "output_type": "error",
     "traceback": [
      "\u001b[1;31m---------------------------------------------------------------------------\u001b[0m",
      "\u001b[1;31mValueError\u001b[0m                                Traceback (most recent call last)",
      "Cell \u001b[1;32mIn[12], line 2\u001b[0m\n\u001b[0;32m      1\u001b[0m Y\u001b[38;5;241m.\u001b[39mreshape(\u001b[38;5;241m-\u001b[39m\u001b[38;5;241m1\u001b[39m, \u001b[38;5;241m1\u001b[39m)\n\u001b[1;32m----> 2\u001b[0m J \u001b[38;5;241m=\u001b[39m (\u001b[38;5;241m1\u001b[39m\u001b[38;5;241m/\u001b[39m(\u001b[38;5;241m2\u001b[39m\u001b[38;5;241m*\u001b[39mM) \u001b[38;5;241m*\u001b[39m np\u001b[38;5;241m.\u001b[39mtranspose(X\u001b[38;5;129m@W\u001b[39m \u001b[38;5;241m-\u001b[39m Y) \u001b[38;5;241m@\u001b[39m (X\u001b[38;5;129m@W\u001b[39m \u001b[38;5;241m-\u001b[39m Y))\n\u001b[0;32m      3\u001b[0m \u001b[38;5;28mprint\u001b[39m(J\u001b[38;5;241m.\u001b[39mshape)\n\u001b[0;32m      4\u001b[0m \u001b[38;5;28mprint\u001b[39m(J)\n",
      "\u001b[1;31mValueError\u001b[0m: operands could not be broadcast together with remapped shapes [original->remapped]: (3,5,5)->(3,newaxis,newaxis) (5,5,3)->(5,newaxis,newaxis)  and requested shape (5,3)"
     ]
    }
   ],
   "source": [
    "J = (1/(2*M) * np.transpose(X@W - Y) @ (X@W - Y))\n",
    "print(J.shape)\n",
    "print(J)"
   ]
  },
  {
   "cell_type": "markdown",
   "id": "f89ef455-1636-4a36-9483-93de2b9f323f",
   "metadata": {},
   "source": [
    "### Partial derivatives\n",
    "\n",
    "#### Single example case"
   ]
  },
  {
   "cell_type": "code",
   "execution_count": null,
   "id": "3d72d871-9e72-4c90-ada5-1d68ac1f4f44",
   "metadata": {
    "tags": []
   },
   "outputs": [],
   "source": [
    "JW_Wj = (1/M) * np.transpose((X[:,1])) @ (X@W-Y)\n",
    "print(JW_Wj)\n",
    "print(JW_Wj.shape)"
   ]
  },
  {
   "cell_type": "markdown",
   "id": "3f883323-d79f-48a1-895c-904a5d707037",
   "metadata": {},
   "source": [
    "#### Overall data samples"
   ]
  },
  {
   "cell_type": "code",
   "execution_count": null,
   "id": "e9750c1f-cadb-4acd-a051-1309081ac0c2",
   "metadata": {
    "tags": []
   },
   "outputs": [],
   "source": [
    "JW_W = (1/M) * np.transpose((X)) @ (X@W - Y)\n",
    "print(JW_W)\n",
    "print(JW_W).shape"
   ]
  },
  {
   "cell_type": "code",
   "execution_count": null,
   "id": "a6b70730-e9f7-4197-863c-c08a2d16bcd7",
   "metadata": {},
   "outputs": [],
   "source": []
  }
 ],
 "metadata": {
  "kernelspec": {
   "display_name": "Python 3 (ipykernel)",
   "language": "python",
   "name": "python3"
  },
  "language_info": {
   "codemirror_mode": {
    "name": "ipython",
    "version": 3
   },
   "file_extension": ".py",
   "mimetype": "text/x-python",
   "name": "python",
   "nbconvert_exporter": "python",
   "pygments_lexer": "ipython3",
   "version": "3.11.4"
  }
 },
 "nbformat": 4,
 "nbformat_minor": 5
}
