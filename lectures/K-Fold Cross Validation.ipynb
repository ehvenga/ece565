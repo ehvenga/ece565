{
 "cells": [
  {
   "cell_type": "markdown",
   "id": "6d493db6-faf7-48a6-9357-fc5063acd221",
   "metadata": {},
   "source": [
    "# K-Fold Cross Validation\n",
    "\n",
    "ref: https://scikit-learn.org/stable/modules/cross_validation.html"
   ]
  },
  {
   "cell_type": "code",
   "execution_count": 1,
   "id": "fb051bb5-b9b9-4679-9a8d-06fdfb91d3c7",
   "metadata": {
    "tags": []
   },
   "outputs": [],
   "source": [
    "import numpy as np\n",
    "from sklearn.model_selection import KFold"
   ]
  },
  {
   "cell_type": "code",
   "execution_count": 2,
   "id": "a63c3694-2eb9-439a-a211-75181ce64fb1",
   "metadata": {
    "tags": []
   },
   "outputs": [
    {
     "data": {
      "text/plain": [
       "array([[0.49742047, 0.68133866],\n",
       "       [0.29274157, 0.23720758],\n",
       "       [0.14727213, 0.05929649],\n",
       "       [0.69248567, 0.30761226],\n",
       "       [0.90983503, 0.65284709],\n",
       "       [0.04545768, 0.01713307],\n",
       "       [0.13395379, 0.92292449],\n",
       "       [0.87798942, 0.87304084],\n",
       "       [0.95141114, 0.04688927]])"
      ]
     },
     "execution_count": 2,
     "metadata": {},
     "output_type": "execute_result"
    }
   ],
   "source": [
    "X = np.random.rand(9,2)\n",
    "X"
   ]
  },
  {
   "cell_type": "markdown",
   "id": "dcc05537-1e5e-45fe-abfe-81259b5f1dca",
   "metadata": {},
   "source": [
    "## Initialize k-fold method"
   ]
  },
  {
   "cell_type": "code",
   "execution_count": 3,
   "id": "c9a22429-aa0c-4b46-b90f-1d2c80029bc0",
   "metadata": {
    "tags": []
   },
   "outputs": [],
   "source": [
    "kf = KFold(n_splits=5, random_state=None, shuffle=False)"
   ]
  },
  {
   "cell_type": "markdown",
   "id": "9fa93dd2-fe0a-4978-8c27-e77cb3bb00bb",
   "metadata": {},
   "source": [
    "## Call k-fold method"
   ]
  },
  {
   "cell_type": "code",
   "execution_count": 4,
   "id": "425a222a-4695-46c2-bac6-d2df55642dfb",
   "metadata": {
    "tags": []
   },
   "outputs": [
    {
     "name": "stdout",
     "output_type": "stream",
     "text": [
      "train:  [[0.14727213 0.05929649]\n",
      " [0.69248567 0.30761226]\n",
      " [0.90983503 0.65284709]\n",
      " [0.04545768 0.01713307]\n",
      " [0.13395379 0.92292449]\n",
      " [0.87798942 0.87304084]\n",
      " [0.95141114 0.04688927]]\n",
      "validation:  [[0.49742047 0.68133866]\n",
      " [0.29274157 0.23720758]] \n",
      "\n",
      "train:  [[0.49742047 0.68133866]\n",
      " [0.29274157 0.23720758]\n",
      " [0.90983503 0.65284709]\n",
      " [0.04545768 0.01713307]\n",
      " [0.13395379 0.92292449]\n",
      " [0.87798942 0.87304084]\n",
      " [0.95141114 0.04688927]]\n",
      "validation:  [[0.14727213 0.05929649]\n",
      " [0.69248567 0.30761226]] \n",
      "\n",
      "train:  [[0.49742047 0.68133866]\n",
      " [0.29274157 0.23720758]\n",
      " [0.14727213 0.05929649]\n",
      " [0.69248567 0.30761226]\n",
      " [0.13395379 0.92292449]\n",
      " [0.87798942 0.87304084]\n",
      " [0.95141114 0.04688927]]\n",
      "validation:  [[0.90983503 0.65284709]\n",
      " [0.04545768 0.01713307]] \n",
      "\n",
      "train:  [[0.49742047 0.68133866]\n",
      " [0.29274157 0.23720758]\n",
      " [0.14727213 0.05929649]\n",
      " [0.69248567 0.30761226]\n",
      " [0.90983503 0.65284709]\n",
      " [0.04545768 0.01713307]\n",
      " [0.95141114 0.04688927]]\n",
      "validation:  [[0.13395379 0.92292449]\n",
      " [0.87798942 0.87304084]] \n",
      "\n",
      "train:  [[0.49742047 0.68133866]\n",
      " [0.29274157 0.23720758]\n",
      " [0.14727213 0.05929649]\n",
      " [0.69248567 0.30761226]\n",
      " [0.90983503 0.65284709]\n",
      " [0.04545768 0.01713307]\n",
      " [0.13395379 0.92292449]\n",
      " [0.87798942 0.87304084]]\n",
      "validation:  [[0.95141114 0.04688927]] \n",
      "\n"
     ]
    }
   ],
   "source": [
    "for train, val in kf.split(X):\n",
    "    # print([train, val])\n",
    "    print('train: ',X[train,:])\n",
    "    print('validation: ',X[val,:],'\\n')"
   ]
  },
  {
   "cell_type": "markdown",
   "id": "dce94d53-b2b2-48d8-be27-dac056b65879",
   "metadata": {
    "tags": []
   },
   "source": [
    "## Stratified k-fold cross validation"
   ]
  },
  {
   "cell_type": "code",
   "execution_count": 5,
   "id": "daf2f622-f1d6-4c2c-9c5e-3f1c7594e9fc",
   "metadata": {
    "tags": []
   },
   "outputs": [],
   "source": [
    "from sklearn.model_selection import StratifiedKFold"
   ]
  },
  {
   "cell_type": "code",
   "execution_count": 6,
   "id": "314acc48-c992-4877-ae33-7c697d9ffb8a",
   "metadata": {
    "tags": []
   },
   "outputs": [
    {
     "name": "stdout",
     "output_type": "stream",
     "text": [
      "X:  [[1.]\n",
      " [1.]\n",
      " [1.]\n",
      " [1.]\n",
      " [1.]\n",
      " [1.]\n",
      " [1.]\n",
      " [1.]\n",
      " [1.]\n",
      " [1.]\n",
      " [1.]\n",
      " [1.]\n",
      " [1.]\n",
      " [1.]\n",
      " [1.]\n",
      " [1.]\n",
      " [1.]\n",
      " [1.]\n",
      " [1.]\n",
      " [1.]\n",
      " [1.]\n",
      " [1.]\n",
      " [1.]\n",
      " [1.]\n",
      " [1.]\n",
      " [1.]\n",
      " [1.]\n",
      " [1.]\n",
      " [1.]\n",
      " [1.]\n",
      " [1.]\n",
      " [1.]\n",
      " [1.]\n",
      " [1.]\n",
      " [1.]\n",
      " [1.]\n",
      " [1.]\n",
      " [1.]\n",
      " [1.]\n",
      " [1.]\n",
      " [1.]\n",
      " [1.]\n",
      " [1.]\n",
      " [1.]\n",
      " [1.]\n",
      " [1.]\n",
      " [1.]\n",
      " [1.]\n",
      " [1.]\n",
      " [1.]]\n",
      "y:  [0 0 0 0 0 0 0 0 0 0 0 0 0 0 0 0 0 0 0 0 0 0 0 0 0 0 0 0 0 0 0 0 0 0 0 0 0\n",
      " 0 0 0 0 0 0 0 0 1 1 1 1 1]\n"
     ]
    }
   ],
   "source": [
    "X, y = np.ones((50,1)), np.hstack(([0]*45, [1]*5))\n",
    "print('X: ', X)\n",
    "print('y: ', y)"
   ]
  },
  {
   "cell_type": "code",
   "execution_count": 7,
   "id": "0e0b2baf-9a8d-41cd-8ff2-95063d1d93d4",
   "metadata": {
    "tags": []
   },
   "outputs": [
    {
     "name": "stdout",
     "output_type": "stream",
     "text": [
      "[0 0 0 0 0 0 0 0 0 0 0 0 0 0 0 0 0]\n",
      "[0 0 0 0 0 0 0 0 0 0 0 0 0 0 0 0 0]\n",
      "[0 0 0 0 0 0 0 0 0 0 0 1 1 1 1 1]\n"
     ]
    }
   ],
   "source": [
    "kf = KFold(n_splits=3)\n",
    "for train, val in kf.split(X, y):\n",
    "    print(y[val])"
   ]
  },
  {
   "cell_type": "code",
   "execution_count": 8,
   "id": "907b832d-f68a-43fe-bfac-7afb89ff4db6",
   "metadata": {
    "tags": []
   },
   "outputs": [],
   "source": [
    "skf = StratifiedKFold(n_splits=3)"
   ]
  },
  {
   "cell_type": "code",
   "execution_count": 9,
   "id": "7042f1c1-dab4-4717-b20d-8bdd5d471026",
   "metadata": {
    "tags": []
   },
   "outputs": [
    {
     "name": "stdout",
     "output_type": "stream",
     "text": [
      "[0 0 0 0 0 0 0 0 0 0 0 0 0 0 0 1 1]\n",
      "[0 0 0 0 0 0 0 0 0 0 0 0 0 0 0 1 1]\n",
      "[0 0 0 0 0 0 0 0 0 0 0 0 0 0 0 1]\n"
     ]
    }
   ],
   "source": [
    "for train, val in skf.split(X, y):\n",
    "    print(y[val])"
   ]
  }
 ],
 "metadata": {
  "kernelspec": {
   "display_name": "Python 3 (ipykernel)",
   "language": "python",
   "name": "python3"
  },
  "language_info": {
   "codemirror_mode": {
    "name": "ipython",
    "version": 3
   },
   "file_extension": ".py",
   "mimetype": "text/x-python",
   "name": "python",
   "nbconvert_exporter": "python",
   "pygments_lexer": "ipython3",
   "version": "3.11.4"
  }
 },
 "nbformat": 4,
 "nbformat_minor": 5
}
