{
 "cells": [
  {
   "cell_type": "code",
   "execution_count": 1,
   "id": "2c63bea6-542d-438e-8f34-58b933a75a0b",
   "metadata": {
    "tags": []
   },
   "outputs": [
    {
     "name": "stdout",
     "output_type": "stream",
     "text": [
      "J 63.81499951316362\n",
      "31\n",
      "w0: 0.08352625702491409 \n",
      "w1: 12.213234588524655 J: 63.55317375837271\n"
     ]
    }
   ],
   "source": [
    "import numpy as np\n",
    "import pandas as pd\n",
    "import matplotlib.pyplot as plt\n",
    "\n",
    "data = pd.read_csv('dataset_5.csv')\n",
    "x = data['x'].values # Assuming the first column is the feature\n",
    "y = data['y'].values  # Assuming the second column is the target variable\n",
    "w0 = 0\n",
    "w1 = 12\n",
    "epsilon_w0 = 0.001 #Tolerance for breaking the loop\n",
    "epsilon_w1 = 0.001\n",
    "alpha = 0.01 # learning rate\n",
    "epochs = 1000 # Iterations\n",
    "M = x.shape[0]\n",
    "hw = lambda w0, w1, x: (w0 + (w1*x)) #hypothesis\n",
    "J = (1/(2*M)) * (sum((hw(w0, w1, x) - y)**2))\n",
    "print('J',J)\n",
    "for n in range(0, epochs):\n",
    "    # Cost function\n",
    "    J = (1/(2*M)) * (sum((hw(w0, w1, x) - y)**2))\n",
    "    \n",
    "    # Calculate the partial derivatives of the cost function\n",
    "    dfJ_w0 = (1/M) * sum(hw(w0, w1, x) - y)\n",
    "    dfJ_w1 = (1/M) * sum((hw(w0, w1, x) - y) * x) \n",
    "    \n",
    "    # Update parameters using gradients\n",
    "    w0_old = w0\n",
    "    w1_old = w1\n",
    "    w0 = w0 - (alpha * dfJ_w0)\n",
    "    w1 = w1 - (alpha * dfJ_w1)\n",
    "    \n",
    "    # Check for convergence\n",
    "    if((abs(w0_old - w0) < epsilon_w0) & (abs(w1_old - w1) < epsilon_w1)):\n",
    "       print(n)\n",
    "       break\n",
    "print('w0:',w0,'\\nw1:',w1, 'J:', J)"
   ]
  },
  {
   "cell_type": "code",
   "execution_count": null,
   "id": "36a164ed-8e20-4da3-9705-59208ce8562a",
   "metadata": {},
   "outputs": [],
   "source": []
  }
 ],
 "metadata": {
  "kernelspec": {
   "display_name": "Python 3 (ipykernel)",
   "language": "python",
   "name": "python3"
  },
  "language_info": {
   "codemirror_mode": {
    "name": "ipython",
    "version": 3
   },
   "file_extension": ".py",
   "mimetype": "text/x-python",
   "name": "python",
   "nbconvert_exporter": "python",
   "pygments_lexer": "ipython3",
   "version": "3.11.4"
  }
 },
 "nbformat": 4,
 "nbformat_minor": 5
}
