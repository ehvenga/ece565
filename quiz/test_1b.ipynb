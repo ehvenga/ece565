{
 "cells": [
  {
   "cell_type": "markdown",
   "id": "218b2301-67df-4759-893b-e95804bb3a26",
   "metadata": {},
   "source": [
    "1. Read train.csv\n",
    "\n",
    "2. Train 70%, val 20%, test=10\n",
    "\n",
    "sklearn preprocessing std scaling"
   ]
  },
  {
   "cell_type": "code",
   "execution_count": null,
   "id": "46c304d4-2150-4313-86cb-3b2fe69946a8",
   "metadata": {},
   "outputs": [],
   "source": []
  }
 ],
 "metadata": {
  "kernelspec": {
   "display_name": "Python 3 (ipykernel)",
   "language": "python",
   "name": "python3"
  },
  "language_info": {
   "codemirror_mode": {
    "name": "ipython",
    "version": 3
   },
   "file_extension": ".py",
   "mimetype": "text/x-python",
   "name": "python",
   "nbconvert_exporter": "python",
   "pygments_lexer": "ipython3",
   "version": "3.11.4"
  }
 },
 "nbformat": 4,
 "nbformat_minor": 5
}
