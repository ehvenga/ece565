{
 "cells": [
  {
   "cell_type": "markdown",
   "id": "99833a99-1409-4b18-a19c-b0c6528dfe64",
   "metadata": {},
   "source": [
    "## Homework 2\n",
    "\n",
    "### Hari Vengadesh Elangeswaran"
   ]
  },
  {
   "cell_type": "code",
   "execution_count": 30,
   "id": "25c0f814-0afd-42ac-921c-c99e46b53ea3",
   "metadata": {
    "tags": []
   },
   "outputs": [
    {
     "name": "stdout",
     "output_type": "stream",
     "text": [
      "[[0.7598074]\n",
      " [0.7598074]\n",
      " [0.7598074]\n",
      " [0.7598074]\n",
      " [0.7598074]\n",
      " [0.7598074]\n",
      " [0.7598074]\n",
      " [0.7598074]\n",
      " [0.7598074]\n",
      " [0.7598074]\n",
      " [0.7598074]\n",
      " [0.7598074]\n",
      " [0.7598074]\n",
      " [0.7598074]\n",
      " [0.7598074]\n",
      " [0.7598074]\n",
      " [0.7598074]\n",
      " [0.7598074]\n",
      " [0.7598074]\n",
      " [0.7598074]\n",
      " [0.7598074]\n",
      " [0.7598074]\n",
      " [0.7598074]\n",
      " [0.7598074]\n",
      " [0.7598074]\n",
      " [0.7598074]\n",
      " [0.7598074]\n",
      " [0.7598074]\n",
      " [0.7598074]\n",
      " [0.7598074]\n",
      " [0.7598074]] (31, 1)\n"
     ]
    }
   ],
   "source": [
    "import numpy as np\n",
    "\n",
    "# Neural Network architecture\n",
    "n_input_nodes = 7  # Including an extra node to match the 7 nodes requirement\n",
    "n_nodes_l2 = 5\n",
    "n_nodes_l3 = 2\n",
    "n_output_nodes = 1\n",
    "\n",
    "# Activation function\n",
    "def logistic(x):\n",
    "    return 1 / (1 + np.exp(-x))\n",
    "\n",
    "# Initialize weights randomly\n",
    "np.random.seed(42)  # For reproducibility\n",
    "weights_l1_l2 = np.random.rand(n_input_nodes, n_nodes_l2)\n",
    "weights_l2_l3 = np.random.rand(n_nodes_l2 + 1, n_nodes_l3)  # +1 for bias\n",
    "weights_l3_output = np.random.rand(n_nodes_l3 + 1, n_output_nodes)  # +1 for bias\n",
    "\n",
    "# Data\n",
    "X = np.full((31, n_input_nodes - 1), 3)  # 31 examples, 5 features set to 3, excluding the bias and the extra node\n",
    "X = np.hstack((X, np.ones((31, 1))))  # Adding bias to the input layer\n",
    "\n",
    "# Forward propagation\n",
    "# Layer 2\n",
    "Z_l2 = np.dot(X, weights_l1_l2)\n",
    "A_l2 = logistic(Z_l2)\n",
    "A_l2 = np.hstack((A_l2, np.ones((31, 1))))  # Adding bias to the second layer\n",
    "\n",
    "# Layer 3\n",
    "Z_l3 = np.dot(A_l2, weights_l2_l3)\n",
    "A_l3 = logistic(Z_l3)\n",
    "A_l3 = np.hstack((A_l3, np.ones((31, 1))))  # Adding bias to the third layer\n",
    "\n",
    "# Output layer\n",
    "Z_output = np.dot(A_l3, weights_l3_output)\n",
    "A_output = logistic(Z_output)\n",
    "\n",
    "# Print the output\n",
    "print(A_output)"
   ]
  }
 ],
 "metadata": {
  "kernelspec": {
   "display_name": "Python 3 (ipykernel)",
   "language": "python",
   "name": "python3"
  },
  "language_info": {
   "codemirror_mode": {
    "name": "ipython",
    "version": 3
   },
   "file_extension": ".py",
   "mimetype": "text/x-python",
   "name": "python",
   "nbconvert_exporter": "python",
   "pygments_lexer": "ipython3",
   "version": "3.11.4"
  }
 },
 "nbformat": 4,
 "nbformat_minor": 5
}
